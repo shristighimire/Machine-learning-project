{
  "nbformat": 4,
  "nbformat_minor": 0,
  "metadata": {
    "colab": {
      "provenance": [],
      "authorship_tag": "ABX9TyPVF9TDB764EZ7M6jISpRFc",
      "include_colab_link": true
    },
    "kernelspec": {
      "name": "python3",
      "display_name": "Python 3"
    },
    "language_info": {
      "name": "python"
    }
  },
  "cells": [
    {
      "cell_type": "markdown",
      "metadata": {
        "id": "view-in-github",
        "colab_type": "text"
      },
      "source": [
        "<a href=\"https://colab.research.google.com/github/shristighimire/Machine-learning-project/blob/main/Unsupervisedlearning.ipynb\" target=\"_parent\"><img src=\"https://colab.research.google.com/assets/colab-badge.svg\" alt=\"Open In Colab\"/></a>"
      ]
    },
    {
      "cell_type": "code",
      "execution_count": null,
      "metadata": {
        "id": "q-LaiB1w8j-A"
      },
      "outputs": [],
      "source": [
        "# Import necessary libraries\n",
        "import pandas as pd\n",
        "import numpy as np\n",
        "import matplotlib.pyplot as plt\n",
        "import warnings\n",
        "from sklearn.cluster import KMeans\n",
        "\n",
        "warnings.filterwarnings('ignore')\n",
        "\n",
        "# Generate synthetic dataset for vehicles\n",
        "np.random.seed(0)\n",
        "data_size = 300\n",
        "data = {\n",
        "    'Weight': np.random.randint(1000, 3000, data_size),\n",
        "    'EngineSize': np.random.uniform(1.0, 4.0, data_size),\n",
        "    'Horsepower': np.random.randint(50, 300, data_size)\n",
        "}\n",
        "df = pd.DataFrame(data)\n",
        "\n",
        "# No labels are needed for unsupervised learning\n",
        "X = df\n",
        "\n",
        "# Perform KMeans clustering\n",
        "kmeans = KMeans(n_clusters=3, random_state=42)\n",
        "kmeans.fit(X)\n",
        "\n",
        "# Plotting the clusters\n",
        "plt.scatter(df['Weight'], df['Horsepower'], c=kmeans.labels_)\n",
        "plt.xlabel('Weight')\n",
        "plt.ylabel('Horsepower')\n",
        "plt.title('Vehicle Clusters')\n",
        "plt.show()"
      ]
    }
  ]
}